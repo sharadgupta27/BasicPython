{
  "nbformat": 4,
  "nbformat_minor": 0,
  "metadata": {
    "kernelspec": {
      "display_name": "Python 3",
      "language": "python",
      "name": "python3"
    },
    "language_info": {
      "codemirror_mode": {
        "name": "ipython",
        "version": 3
      },
      "file_extension": ".py",
      "mimetype": "text/x-python",
      "name": "python",
      "nbconvert_exporter": "python",
      "pygments_lexer": "ipython3",
      "version": "3.7.6"
    },
    "colab": {
      "name": "distribute_lab0.ipynb",
      "provenance": [],
      "include_colab_link": true
    }
  },
  "cells": [
    {
      "cell_type": "markdown",
      "metadata": {
        "id": "view-in-github",
        "colab_type": "text"
      },
      "source": [
        "<a href=\"https://colab.research.google.com/github/sharadgupta27/BasicPython/blob/main/distribute_lab0.ipynb\" target=\"_parent\"><img src=\"https://colab.research.google.com/assets/colab-badge.svg\" alt=\"Open In Colab\"/></a>"
      ]
    },
    {
      "cell_type": "markdown",
      "metadata": {
        "id": "TXL3cCbVcx_G"
      },
      "source": [
        "# Lab 0: Basic Python, Functions, Lists, Strings, and Files"
      ]
    },
    {
      "cell_type": "markdown",
      "metadata": {
        "id": "NrzmeT7EcAZB"
      },
      "source": [
        "## EXERCISE 1: A Simple Calculator\n",
        "\n",
        "Here is a fun little calculator which exercises what you have learnt so far.\n",
        "\n",
        "It has only 4 operations - Addition, Subtraction, Multiplication and Divison\n",
        "\n",
        "Notice the use of no-operation `pass`. It allows us to incrementally code by doing nothing to start, and put in functionality over time."
      ]
    },
    {
      "cell_type": "code",
      "metadata": {
        "id": "j7Y7xxgscx_a",
        "outputId": "f7152a63-13f3-4e59-f51a-aeec116847dc",
        "colab": {
          "base_uri": "https://localhost:8080/"
        }
      },
      "source": [
        "print(\"Select operation\\n\")\n",
        "print(\"1.Addition\")\n",
        "print(\"2.Subtraction\")\n",
        "print(\"3.Multiplication\")\n",
        "print(\"4.Division\")\n",
        "\n",
        "# Something NEW: Take input from the user \n",
        "choice = input(\"\\nEnter choice(1/2/3/4): \")\n",
        "\n",
        "# We convert the input to a floating-pount(or real) number.\n",
        "\n",
        "num1 = float(input(\"\\nEnter first number: \"))\n",
        "num2 = float(input(\"\\nEnter second number: \"))\n",
        "\n",
        "if choice == '1':\n",
        "    # your code here\n",
        "    num = num1 + num2\n",
        "elif choice == '2':\n",
        "    num = num1 - num2\n",
        "elif choice == '3':\n",
        "    num = num1 * num2\n",
        "elif choice == '4':\n",
        "    num = num1 / num2\n",
        "else:\n",
        "    print('Enter Correct Choice')\n",
        "\n",
        "print(num)"
      ],
      "execution_count": 4,
      "outputs": [
        {
          "output_type": "stream",
          "text": [
            "Select operation\n",
            "\n",
            "1.Addition\n",
            "2.Subtraction\n",
            "3.Multiplication\n",
            "4.Division\n",
            "\n",
            "Enter choice(1/2/3/4): 1\n",
            "\n",
            "Enter first number: 12\n",
            "\n",
            "Enter second number: 13\n",
            "25.0\n"
          ],
          "name": "stdout"
        }
      ]
    },
    {
      "cell_type": "markdown",
      "metadata": {
        "id": "MLW-Zv90cx_d"
      },
      "source": [
        "## EXERCISE 2: List like objects and functions on them\n",
        "\n",
        "Materialize lists using \n",
        "\n",
        "1. `range(50)`\n",
        "2. The function application `enumerate(list of alphabets)`\n",
        "3. Write your own enumerate function for a list using the function `zip`."
      ]
    },
    {
      "cell_type": "code",
      "metadata": {
        "id": "0o2TrnNdcx_d",
        "outputId": "70954de4-4b22-4e41-efcc-9a59b30a0760",
        "colab": {
          "base_uri": "https://localhost:8080/"
        }
      },
      "source": [
        "# your code here\n",
        "list(range(50))"
      ],
      "execution_count": 5,
      "outputs": [
        {
          "output_type": "execute_result",
          "data": {
            "text/plain": [
              "[0,\n",
              " 1,\n",
              " 2,\n",
              " 3,\n",
              " 4,\n",
              " 5,\n",
              " 6,\n",
              " 7,\n",
              " 8,\n",
              " 9,\n",
              " 10,\n",
              " 11,\n",
              " 12,\n",
              " 13,\n",
              " 14,\n",
              " 15,\n",
              " 16,\n",
              " 17,\n",
              " 18,\n",
              " 19,\n",
              " 20,\n",
              " 21,\n",
              " 22,\n",
              " 23,\n",
              " 24,\n",
              " 25,\n",
              " 26,\n",
              " 27,\n",
              " 28,\n",
              " 29,\n",
              " 30,\n",
              " 31,\n",
              " 32,\n",
              " 33,\n",
              " 34,\n",
              " 35,\n",
              " 36,\n",
              " 37,\n",
              " 38,\n",
              " 39,\n",
              " 40,\n",
              " 41,\n",
              " 42,\n",
              " 43,\n",
              " 44,\n",
              " 45,\n",
              " 46,\n",
              " 47,\n",
              " 48,\n",
              " 49]"
            ]
          },
          "metadata": {
            "tags": []
          },
          "execution_count": 5
        }
      ]
    },
    {
      "cell_type": "code",
      "metadata": {
        "id": "xKv2hQrNcx_g"
      },
      "source": [
        "# your code here\n"
      ],
      "execution_count": null,
      "outputs": []
    },
    {
      "cell_type": "code",
      "metadata": {
        "id": "Nii-t-q3cx_h",
        "outputId": "f4d0956f-99a7-42c6-9c7d-0d93474cab0d",
        "colab": {
          "base_uri": "https://localhost:8080/"
        }
      },
      "source": [
        "# your code here\n",
        "list1 = []\n",
        "a = ord('a')\n",
        "z = ord('z')\n",
        "for i in range(a,z+1):\n",
        "    list1.append(chr(i))\n",
        "print(list1)\n",
        "list2 = [i for i in range(0,26)]\n",
        "\n",
        "for i,j in zip(list1,list2):\n",
        "  print(i,j)"
      ],
      "execution_count": 9,
      "outputs": [
        {
          "output_type": "stream",
          "text": [
            "['a', 'b', 'c', 'd', 'e', 'f', 'g', 'h', 'i', 'j', 'k', 'l', 'm', 'n', 'o', 'p', 'q', 'r', 's', 't', 'u', 'v', 'w', 'x', 'y', 'z']\n",
            "a 0\n",
            "b 1\n",
            "c 2\n",
            "d 3\n",
            "e 4\n",
            "f 5\n",
            "g 6\n",
            "h 7\n",
            "i 8\n",
            "j 9\n",
            "k 10\n",
            "l 11\n",
            "m 12\n",
            "n 13\n",
            "o 14\n",
            "p 15\n",
            "q 16\n",
            "r 17\n",
            "s 18\n",
            "t 19\n",
            "u 20\n",
            "v 21\n",
            "w 22\n",
            "x 23\n",
            "y 24\n",
            "z 25\n"
          ],
          "name": "stdout"
        }
      ]
    },
    {
      "cell_type": "code",
      "metadata": {
        "id": "fXIFfPD7gg-O",
        "outputId": "aa1fd03a-d192-4fb5-d889-f265e73d7933",
        "colab": {
          "base_uri": "https://localhost:8080/"
        }
      },
      "source": [
        "import string\r\n",
        "for something in enumerate(string.ascii_lowercase):\r\n",
        "  print(something)"
      ],
      "execution_count": 6,
      "outputs": [
        {
          "output_type": "stream",
          "text": [
            "(0, 'a')\n",
            "(1, 'b')\n",
            "(2, 'c')\n",
            "(3, 'd')\n",
            "(4, 'e')\n",
            "(5, 'f')\n",
            "(6, 'g')\n",
            "(7, 'h')\n",
            "(8, 'i')\n",
            "(9, 'j')\n",
            "(10, 'k')\n",
            "(11, 'l')\n",
            "(12, 'm')\n",
            "(13, 'n')\n",
            "(14, 'o')\n",
            "(15, 'p')\n",
            "(16, 'q')\n",
            "(17, 'r')\n",
            "(18, 's')\n",
            "(19, 't')\n",
            "(20, 'u')\n",
            "(21, 'v')\n",
            "(22, 'w')\n",
            "(23, 'x')\n",
            "(24, 'y')\n",
            "(25, 'z')\n"
          ],
          "name": "stdout"
        }
      ]
    },
    {
      "cell_type": "code",
      "metadata": {
        "id": "E6EeLwr0g8xn",
        "outputId": "410a5ca3-78f6-4735-f16d-be39a68cff4f",
        "colab": {
          "base_uri": "https://localhost:8080/"
        }
      },
      "source": [
        "for index,char in enumerate(string.ascii_lowercase):\r\n",
        "  print(index,\"->\",char)"
      ],
      "execution_count": 7,
      "outputs": [
        {
          "output_type": "stream",
          "text": [
            "0 -> a\n",
            "1 -> b\n",
            "2 -> c\n",
            "3 -> d\n",
            "4 -> e\n",
            "5 -> f\n",
            "6 -> g\n",
            "7 -> h\n",
            "8 -> i\n",
            "9 -> j\n",
            "10 -> k\n",
            "11 -> l\n",
            "12 -> m\n",
            "13 -> n\n",
            "14 -> o\n",
            "15 -> p\n",
            "16 -> q\n",
            "17 -> r\n",
            "18 -> s\n",
            "19 -> t\n",
            "20 -> u\n",
            "21 -> v\n",
            "22 -> w\n",
            "23 -> x\n",
            "24 -> y\n",
            "25 -> z\n"
          ],
          "name": "stdout"
        }
      ]
    },
    {
      "cell_type": "code",
      "metadata": {
        "id": "wMyYFqvFhGrk",
        "outputId": "828df5c9-de38-46f8-f8c0-3c9de1e93bdc",
        "colab": {
          "base_uri": "https://localhost:8080/"
        }
      },
      "source": [
        "list(enumerate(string.ascii_lowercase))"
      ],
      "execution_count": 8,
      "outputs": [
        {
          "output_type": "execute_result",
          "data": {
            "text/plain": [
              "[(0, 'a'),\n",
              " (1, 'b'),\n",
              " (2, 'c'),\n",
              " (3, 'd'),\n",
              " (4, 'e'),\n",
              " (5, 'f'),\n",
              " (6, 'g'),\n",
              " (7, 'h'),\n",
              " (8, 'i'),\n",
              " (9, 'j'),\n",
              " (10, 'k'),\n",
              " (11, 'l'),\n",
              " (12, 'm'),\n",
              " (13, 'n'),\n",
              " (14, 'o'),\n",
              " (15, 'p'),\n",
              " (16, 'q'),\n",
              " (17, 'r'),\n",
              " (18, 's'),\n",
              " (19, 't'),\n",
              " (20, 'u'),\n",
              " (21, 'v'),\n",
              " (22, 'w'),\n",
              " (23, 'x'),\n",
              " (24, 'y'),\n",
              " (25, 'z')]"
            ]
          },
          "metadata": {
            "tags": []
          },
          "execution_count": 8
        }
      ]
    },
    {
      "cell_type": "markdown",
      "metadata": {
        "id": "rUe6oWVsvj12"
      },
      "source": [
        "## EXERCISE 3: Count the special characters\n",
        "\n",
        "Consider the string \"HelloWorld,123,ThisIsUniv.Ai\" (not including the quotes). Find the number of uppercase, lowercase, special character and numerical characters.\n"
      ]
    },
    {
      "cell_type": "code",
      "metadata": {
        "id": "uNci1xv-cx_i"
      },
      "source": [
        "my_string = \"HelloWorld,123,ThisIsUniv.Ai\"\n",
        "# your code here\n"
      ],
      "execution_count": null,
      "outputs": []
    },
    {
      "cell_type": "code",
      "metadata": {
        "id": "EAPMTQltcx_j"
      },
      "source": [
        "counter(string.ascii_uppercase, my_string),counter(string.ascii_lowercase, my_string),counter(string.digits, my_string),counter(string.punctuation, my_string)"
      ],
      "execution_count": null,
      "outputs": []
    },
    {
      "cell_type": "markdown",
      "metadata": {
        "id": "h4FpTDaHcx_k"
      },
      "source": [
        "## EXERCISE 4: Read a file and parse words from it\n",
        "\n",
        "Read Julius Caesar. Get each line. Remove newline characters from each line. Split the line to get the words from the line. Lowercase them. Print the first 1000 words, lowercased."
      ]
    },
    {
      "cell_type": "code",
      "metadata": {
        "id": "6Q7QYJMUcx_k",
        "outputId": "757c5b78-f04a-46a4-be4c-6cc197e07406",
        "colab": {
          "base_uri": "https://localhost:8080/"
        }
      },
      "source": [
        "# your code here\n",
        "!wget https://raw.githubusercontent.com/sharadgupta27/BasicPython/main/data/Julius%20Caesar.txt"
      ],
      "execution_count": 10,
      "outputs": [
        {
          "output_type": "stream",
          "text": [
            "--2020-12-19 05:47:32--  https://raw.githubusercontent.com/sharadgupta27/BasicPython/main/data/Julius%20Caesar.txt\n",
            "Resolving raw.githubusercontent.com (raw.githubusercontent.com)... 151.101.0.133, 151.101.64.133, 151.101.128.133, ...\n",
            "Connecting to raw.githubusercontent.com (raw.githubusercontent.com)|151.101.0.133|:443... connected.\n",
            "HTTP request sent, awaiting response... 200 OK\n",
            "Length: 120873 (118K) [text/plain]\n",
            "Saving to: ‘Julius Caesar.txt’\n",
            "\n",
            "Julius Caesar.txt   100%[===================>] 118.04K  --.-KB/s    in 0.04s   \n",
            "\n",
            "2020-12-19 05:47:32 (2.95 MB/s) - ‘Julius Caesar.txt’ saved [120873/120873]\n",
            "\n"
          ],
          "name": "stdout"
        }
      ]
    },
    {
      "cell_type": "code",
      "metadata": {
        "id": "BywvqdTOcx_k"
      },
      "source": [
        "file1 = open(\"Julius Caesar.txt\")\r\n",
        "fl = file1.readlines();\r\n",
        "counter = 0\r\n",
        "for line in fl:\r\n",
        "    line.strip()\r\n",
        "\r\n",
        "\r\n",
        "file1.close()\r\n",
        "print(counter)"
      ],
      "execution_count": null,
      "outputs": []
    }
  ]
}