{
  "nbformat": 4,
  "nbformat_minor": 0,
  "metadata": {
    "colab": {
      "name": "L1 - Lec4.ipynb",
      "provenance": [],
      "collapsed_sections": [],
      "include_colab_link": true
    },
    "kernelspec": {
      "display_name": "Python 3",
      "language": "python",
      "name": "python3"
    },
    "language_info": {
      "codemirror_mode": {
        "name": "ipython",
        "version": 3
      },
      "file_extension": ".py",
      "mimetype": "text/x-python",
      "name": "python",
      "nbconvert_exporter": "python",
      "pygments_lexer": "ipython3",
      "version": "3.7.6"
    }
  },
  "cells": [
    {
      "cell_type": "markdown",
      "metadata": {
        "id": "view-in-github",
        "colab_type": "text"
      },
      "source": [
        "<a href=\"https://colab.research.google.com/github/sharadgupta27/BasicPython/blob/main/functions.ipynb\" target=\"_parent\"><img src=\"https://colab.research.google.com/assets/colab-badge.svg\" alt=\"Open In Colab\"/></a>"
      ]
    },
    {
      "cell_type": "markdown",
      "metadata": {
        "id": "OkFBH5ABQ6Mg"
      },
      "source": [
        "# Functions"
      ]
    },
    {
      "cell_type": "markdown",
      "metadata": {
        "id": "XzUQ1Ud39PFf"
      },
      "source": [
        "\n",
        "A function is a set of statements that take inputs, do some specific computation and produces output. \n",
        "\n",
        "There are many ways to define functions:\n",
        "\n",
        "- Functions can be built-in to python, or imported from an existing Python Library\n",
        "- A function can be user defined\n",
        "- A function can be anonymous\n",
        "- functions can belong to objects. More on this later.\n",
        "\n",
        "properties of functions:\n",
        "\n",
        "- A function can be called from other functions\n",
        "- Can return data\n",
        "\n",
        "![](https://github.com/sharadgupta27/BasicPython/blob/main/functions.slides.dir/2.png?raw=1)\n",
        "\n",
        "Here is another example of a built-in function"
      ]
    },
    {
      "cell_type": "markdown",
      "metadata": {
        "id": "tHLmrzk3Q6Mv"
      },
      "source": [
        "## Built-ins and imports"
      ]
    },
    {
      "cell_type": "code",
      "metadata": {
        "colab": {
          "base_uri": "https://localhost:8080/"
        },
        "id": "jpsMeACR9dpx",
        "outputId": "54e3d720-83ee-4283-82b6-e92e65db2461"
      },
      "source": [
        "#Built-in functions\n",
        "\n",
        "var1 = -15\n",
        "abs(var1)"
      ],
      "execution_count": 1,
      "outputs": [
        {
          "output_type": "execute_result",
          "data": {
            "text/plain": [
              "15"
            ]
          },
          "metadata": {
            "tags": []
          },
          "execution_count": 1
        }
      ]
    },
    {
      "cell_type": "markdown",
      "metadata": {
        "id": "CXsnfxdcQ6Mz"
      },
      "source": [
        "Here are two different ways of **importing from a module**, which is a library of python functions:"
      ]
    },
    {
      "cell_type": "code",
      "metadata": {
        "id": "x2UA8_XiQ6M0",
        "outputId": "513cd61d-0562-4e57-e0f8-8f27e3ebad18",
        "colab": {
          "base_uri": "https://localhost:8080/"
        }
      },
      "source": [
        "from math import sqrt\n",
        "from sys import getsizeof\n",
        "\n",
        "sqrt(25)"
      ],
      "execution_count": 9,
      "outputs": [
        {
          "output_type": "stream",
          "text": [
            "28\n"
          ],
          "name": "stdout"
        }
      ]
    },
    {
      "cell_type": "code",
      "metadata": {
        "id": "VmCz5VejSE01",
        "outputId": "0325d690-1863-43f8-8c7b-4ef1142bff74",
        "colab": {
          "base_uri": "https://localhost:8080/"
        }
      },
      "source": [
        "var = 25\r\n",
        "print(getsizeof(var))"
      ],
      "execution_count": 10,
      "outputs": [
        {
          "output_type": "stream",
          "text": [
            "28\n"
          ],
          "name": "stdout"
        }
      ]
    },
    {
      "cell_type": "code",
      "metadata": {
        "id": "Boi9a7rnRIZS",
        "outputId": "224e8b23-6ade-40c7-aacc-5e8a9008194d",
        "colab": {
          "base_uri": "https://localhost:8080/"
        }
      },
      "source": [
        "import math\r\n",
        "math.sqrt(36)"
      ],
      "execution_count": 3,
      "outputs": [
        {
          "output_type": "execute_result",
          "data": {
            "text/plain": [
              "6.0"
            ]
          },
          "metadata": {
            "tags": []
          },
          "execution_count": 3
        }
      ]
    },
    {
      "cell_type": "code",
      "metadata": {
        "id": "aAHBOThLQ6M0",
        "outputId": "905f0dc9-6dc5-4c26-91ea-7d22879be16d",
        "colab": {
          "base_uri": "https://localhost:8080/"
        }
      },
      "source": [
        "import os\n",
        "os.cpu_count()"
      ],
      "execution_count": 6,
      "outputs": [
        {
          "output_type": "execute_result",
          "data": {
            "text/plain": [
              "2"
            ]
          },
          "metadata": {
            "tags": []
          },
          "execution_count": 6
        }
      ]
    },
    {
      "cell_type": "markdown",
      "metadata": {
        "id": "8aXJYao_5gFW"
      },
      "source": [
        "## Defining your own functions\n",
        "\n",
        "![](https://github.com/sharadgupta27/BasicPython/blob/main/functions.slides.dir/3.png?raw=1)\n",
        "\n",
        "- You can take a number of arguments as input with varying data types. \n",
        "- The arguemnts can optionally have default values which are used in case of no values passed to the function."
      ]
    },
    {
      "cell_type": "code",
      "metadata": {
        "id": "OK4WYT7f9awE",
        "outputId": "2858c163-ccbb-4692-d31d-50b2951f5f0e"
      },
      "source": [
        "# User-defined function with one argument\n",
        "\n",
        "def function_name1(var1):\n",
        "    var2 = 10\n",
        "    x = var1 + var2\n",
        "    return x\n",
        "\n",
        "var1 = 6\n",
        "var2 = function_name1(var1)\n",
        "print (var2)"
      ],
      "execution_count": null,
      "outputs": [
        {
          "output_type": "stream",
          "text": [
            "16\n"
          ],
          "name": "stdout"
        }
      ]
    },
    {
      "cell_type": "code",
      "metadata": {
        "colab": {
          "base_uri": "https://localhost:8080/"
        },
        "id": "SsPmY2f26rj7",
        "outputId": "cfccdc78-91c9-4b99-a307-6ab6ec72a016"
      },
      "source": [
        "#User defined function with 2 arguments, where the second one is a list with default values.\n",
        "\n",
        "def function_name2(var2, l1=[1,2,3,4]):\n",
        "    l2 = []\n",
        "    for i in l1:\n",
        "        l2.append(var2+i)\n",
        "    return l2\n",
        "\n",
        "var2 = 6\n",
        "l = function_name2(var2)\n",
        "print (\"This is the list that has been returned \", l)"
      ],
      "execution_count": 11,
      "outputs": [
        {
          "output_type": "stream",
          "text": [
            "This is the list that has been returned  [7, 8, 9, 10]\n"
          ],
          "name": "stdout"
        }
      ]
    },
    {
      "cell_type": "code",
      "metadata": {
        "id": "WbTYk_I4Q6M3",
        "outputId": "efe748c7-414a-42a6-9af2-fe39213a2c3f"
      },
      "source": [
        "function_name2(var2, [0,0,0,0])"
      ],
      "execution_count": null,
      "outputs": [
        {
          "output_type": "execute_result",
          "data": {
            "text/plain": [
              "[6, 6, 6, 6]"
            ]
          },
          "metadata": {
            "tags": []
          },
          "execution_count": 4
        }
      ]
    },
    {
      "cell_type": "code",
      "metadata": {
        "id": "0rC_Cnr_Q6M3",
        "outputId": "a5698409-72ef-41b6-9caa-54c0538e65c1"
      },
      "source": [
        "function_name2(var2, l1=[0,0,0,0])"
      ],
      "execution_count": null,
      "outputs": [
        {
          "output_type": "execute_result",
          "data": {
            "text/plain": [
              "[6, 6, 6, 6]"
            ]
          },
          "metadata": {
            "tags": []
          },
          "execution_count": 5
        }
      ]
    },
    {
      "cell_type": "markdown",
      "metadata": {
        "id": "Y3XTa6W0Q6M4"
      },
      "source": [
        "## Anonymous Functions\n",
        "\n",
        "Functions may also be defined using the so-called **lambda** or anonymous function, in which functions are then assigned to variables:"
      ]
    },
    {
      "cell_type": "code",
      "metadata": {
        "id": "03tzhpuBQ6M5"
      },
      "source": [
        "square = lambda x: x*x\n",
        "affine = lambda a,b,x: a+b*x"
      ],
      "execution_count": null,
      "outputs": []
    },
    {
      "cell_type": "markdown",
      "metadata": {
        "id": "2P-PLAJ8Q6M5"
      },
      "source": [
        "These are particularly useful for math where most functions are algebraic 1-liners"
      ]
    },
    {
      "cell_type": "code",
      "metadata": {
        "id": "FhbF4rnUQ6M6",
        "outputId": "33704a17-8a9a-4f9d-e8b3-9bcbc410a721"
      },
      "source": [
        "square(5)"
      ],
      "execution_count": null,
      "outputs": [
        {
          "output_type": "execute_result",
          "data": {
            "text/plain": [
              "25"
            ]
          },
          "metadata": {
            "tags": []
          },
          "execution_count": 7
        }
      ]
    },
    {
      "cell_type": "code",
      "metadata": {
        "id": "oS8MAifkQ6M6",
        "outputId": "ea8dcb87-a579-4486-dfc8-27c04015b37c"
      },
      "source": [
        "affine(1,2,5)"
      ],
      "execution_count": null,
      "outputs": [
        {
          "output_type": "execute_result",
          "data": {
            "text/plain": [
              "11"
            ]
          },
          "metadata": {
            "tags": []
          },
          "execution_count": 8
        }
      ]
    },
    {
      "cell_type": "markdown",
      "metadata": {
        "id": "J3a7HA35w655"
      },
      "source": [
        "## The scope of variables in functions\n",
        "\n",
        "![](https://github.com/sharadgupta27/BasicPython/blob/main/functions.slides.dir/7.png?raw=1)\n",
        "\n",
        "- Scope of a variable is the portion of a program where the variable is recognized. Parameters and variables defined inside a function are not visible from outside. Hence, they have a local scope.\n",
        "\n",
        "- Lifetime of a variable is the period throughout which the variable exits in the memory. The lifetime of variables inside a function is as long as the function executes.\n",
        "\n",
        "- They are destroyed once we return from the function. Hence, a function does not remember the value of a variable from its previous calls.\n",
        "\n",
        "The scope of this jupyter notebook, or in a python file, is the **global scope**. Cariables defined here exist through the lifetime of the python program.\n",
        "\n",
        "The scope defined inside of a function definition is the **local** scope.\n",
        "\n",
        "Here is an example to illustrate the scope of a variable inside a function."
      ]
    },
    {
      "cell_type": "code",
      "metadata": {
        "id": "_VY5wunTxNxY",
        "outputId": "f972a44a-cd0f-4087-fb14-c3553f4eb39c"
      },
      "source": [
        "def my_func():\n",
        "    x = 10\n",
        "    print(\"Value inside function:\",x)\n",
        "\n",
        "x = 20\n",
        "my_func()\n",
        "print(\"Value outside function:\",x)"
      ],
      "execution_count": null,
      "outputs": [
        {
          "output_type": "stream",
          "text": [
            "Value inside function: 10\n",
            "Value outside function: 20\n"
          ],
          "name": "stdout"
        }
      ]
    },
    {
      "cell_type": "markdown",
      "metadata": {
        "id": "QHa2VtA9Q6M8"
      },
      "source": [
        "In this way, a variable defined locally can shadow a global. Here the value `x` inside `my_func`comes from the local definition (10), not the global one (20)\n",
        "\n",
        "![](https://github.com/sharadgupta27/BasicPython/blob/main/functions.slides.dir/8.png?raw=1)"
      ]
    }
  ]
}