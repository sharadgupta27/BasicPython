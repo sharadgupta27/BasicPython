{
  "nbformat": 4,
  "nbformat_minor": 0,
  "metadata": {
    "colab": {
      "name": "L1 - Lec3.ipynb",
      "provenance": [],
      "collapsed_sections": [],
      "include_colab_link": true
    },
    "kernelspec": {
      "display_name": "Python 3",
      "language": "python",
      "name": "python3"
    },
    "language_info": {
      "codemirror_mode": {
        "name": "ipython",
        "version": 3
      },
      "file_extension": ".py",
      "mimetype": "text/x-python",
      "name": "python",
      "nbconvert_exporter": "python",
      "pygments_lexer": "ipython3",
      "version": "3.7.6"
    }
  },
  "cells": [
    {
      "cell_type": "markdown",
      "metadata": {
        "id": "view-in-github",
        "colab_type": "text"
      },
      "source": [
        "<a href=\"https://colab.research.google.com/github/sharadgupta27/BasicPython/blob/main/data_structures.ipynb\" target=\"_parent\"><img src=\"https://colab.research.google.com/assets/colab-badge.svg\" alt=\"Open In Colab\"/></a>"
      ]
    },
    {
      "cell_type": "markdown",
      "metadata": {
        "id": "meNS4awCuGb4"
      },
      "source": [
        "# Data Structures"
      ]
    },
    {
      "cell_type": "markdown",
      "metadata": {
        "id": "VeAvOhBe1yLK"
      },
      "source": [
        "![](https://github.com/sharadgupta27/BasicPython/blob/main/data_structures.slides.dir/6.png?raw=1)\n",
        "\n",
        "## Dictionaries\n",
        "\n",
        "A \"bag\" of **value**s, each with its own label, called a **key**. The 'most powerful' data collection type,and one I suspect you will find yourself using a lot!\n",
        "\n",
        "A dictionary is similar to a list, and you can iterate over it but:\n",
        "- the order of items doesn't matter (use an `OrderedDict` for this)\n",
        "- they aren't selected by an index such as 0 or 5. \n",
        "\n",
        "Instead, a unique 'key' is associated with each 'value' . The 'key' can be any **immutable data type**: boolean, float, int, tuple, string (but it is often a string)\n",
        "\n",
        "Dictionaries themselves are \"Mutable\" (the values can be changed)."
      ]
    },
    {
      "cell_type": "code",
      "metadata": {
        "colab": {
          "base_uri": "https://localhost:8080/"
        },
        "id": "p_ly6QO42EQB",
        "outputId": "c97fe09c-3391-47cb-e252-891b18c63ec9"
      },
      "source": [
        "# Creating a dictionary:\n",
        "# 1. Using {}\n",
        "empty_dict = {} \n",
        "print (type(empty_dict))\n",
        "new_dict = { \"day\":5, \"venue\": \"GJB\", \"event\": \"Python Carnival!\" }\n",
        "print(new_dict)"
      ],
      "execution_count": 1,
      "outputs": [
        {
          "output_type": "stream",
          "text": [
            "<class 'dict'>\n",
            "{'day': 5, 'venue': 'GJB', 'event': 'Python Carnival!'}\n"
          ],
          "name": "stdout"
        }
      ]
    },
    {
      "cell_type": "code",
      "metadata": {
        "id": "5ilpj0sF2P7r",
        "outputId": "1c4ce549-72d9-4d7d-973f-4b25e23a3e62"
      },
      "source": [
        "#2. Using dict()\n",
        "purse = dict(type=\"wallet\", material=\"leather\")\n",
        "purse"
      ],
      "execution_count": null,
      "outputs": [
        {
          "output_type": "execute_result",
          "data": {
            "text/plain": [
              "{'type': 'wallet', 'material': 'leather'}"
            ]
          },
          "metadata": {
            "tags": []
          },
          "execution_count": 2
        }
      ]
    },
    {
      "cell_type": "code",
      "metadata": {
        "id": "eCCt3VHZuGcQ",
        "outputId": "836b82a6-48c2-4273-a7f6-7f2418a34ae4"
      },
      "source": [
        "purse['make'] = \"Versace\"\n",
        "purse"
      ],
      "execution_count": null,
      "outputs": [
        {
          "output_type": "execute_result",
          "data": {
            "text/plain": [
              "{'type': 'wallet', 'material': 'leather', 'make': 'Versace'}"
            ]
          },
          "metadata": {
            "tags": []
          },
          "execution_count": 3
        }
      ]
    },
    {
      "cell_type": "markdown",
      "metadata": {
        "id": "nytPS7CB2Sly"
      },
      "source": [
        "### Dictionary operations"
      ]
    },
    {
      "cell_type": "code",
      "metadata": {
        "id": "lZ6umYfc2YXm",
        "outputId": "2bd172ea-398c-43ea-a130-127e323dcc72"
      },
      "source": [
        "# Alternative construction techniques:\n",
        "\n",
        "# (i) dict_var = dict([(key1, value1),(key2, value2), ...])\t\n",
        "D = dict([('name','Alice'),('age',18)])\n",
        "print(D)"
      ],
      "execution_count": null,
      "outputs": [
        {
          "output_type": "stream",
          "text": [
            "{'name': 'Alice', 'age': 18}\n"
          ],
          "name": "stdout"
        }
      ]
    },
    {
      "cell_type": "markdown",
      "metadata": {
        "id": "kDvinhQ4uGcR"
      },
      "source": [
        "This is construction from a list of tuples. We'll see tuples soon."
      ]
    },
    {
      "cell_type": "code",
      "metadata": {
        "id": "AaGELHuRuGcS",
        "outputId": "f0c900f2-bd27-4984-a491-d3aaeb170942"
      },
      "source": [
        "# Creating dict from keys only\n",
        "# dict_var = dict.fromkeys([key1, key2, ...])\n",
        "D = dict.fromkeys(['name','age','place'])\n",
        "D"
      ],
      "execution_count": null,
      "outputs": [
        {
          "output_type": "execute_result",
          "data": {
            "text/plain": [
              "{'name': None, 'age': None, 'place': None}"
            ]
          },
          "metadata": {
            "tags": []
          },
          "execution_count": 6
        }
      ]
    },
    {
      "cell_type": "markdown",
      "metadata": {
        "id": "dlBO5bpAuGcT"
      },
      "source": [
        "Notice that the values have been asigned to a special object in python `None` which is of type `NoneType`. Its specially created to handle the situation of missing values, and evaluates as falsy in conditionals."
      ]
    },
    {
      "cell_type": "code",
      "metadata": {
        "id": "_HnoO3I7uGcT",
        "outputId": "be0cb5d0-9a8a-49ae-84a0-5500145e2d2e"
      },
      "source": [
        "if D['age']:\n",
        "    print(\"Age is\", d['age'])\n",
        "else:\n",
        "    print(\"Nothing specified\")"
      ],
      "execution_count": null,
      "outputs": [
        {
          "output_type": "stream",
          "text": [
            "Nothing specified\n"
          ],
          "name": "stdout"
        }
      ]
    },
    {
      "cell_type": "markdown",
      "metadata": {
        "id": "w4KrFIv2uGcU"
      },
      "source": [
        "Its often used thus, using the opearator `not` in some flow.."
      ]
    },
    {
      "cell_type": "code",
      "metadata": {
        "id": "8fgPddfOuGcU",
        "outputId": "4242457a-57b7-47db-876d-b6679c29cc12"
      },
      "source": [
        "if not D['age']:\n",
        "    print(\"Age not given..ask!\")"
      ],
      "execution_count": null,
      "outputs": [
        {
          "output_type": "stream",
          "text": [
            "Age not given..ask!\n"
          ],
          "name": "stdout"
        }
      ]
    },
    {
      "cell_type": "code",
      "metadata": {
        "id": "kwXnsK0p2aIB",
        "outputId": "3dc05978-99a3-482b-ed6d-3485cc127e38"
      },
      "source": [
        "# Indexing by key dict_var['key']\n",
        "print (D['age'])\n",
        "\n",
        "# Membership operation 'key' in dict_var\n",
        "'place' in D"
      ],
      "execution_count": null,
      "outputs": [
        {
          "output_type": "stream",
          "text": [
            "None\n"
          ],
          "name": "stdout"
        },
        {
          "output_type": "execute_result",
          "data": {
            "text/plain": [
              "True"
            ]
          },
          "metadata": {
            "tags": []
          },
          "execution_count": 9
        }
      ]
    },
    {
      "cell_type": "markdown",
      "metadata": {
        "id": "tWXYooz4uGcW"
      },
      "source": [
        "Dictionaries are listy:"
      ]
    },
    {
      "cell_type": "code",
      "metadata": {
        "id": "b5djno2MuGcX",
        "outputId": "8c6bac9c-f2f4-45e9-db80-7d4ada01f2a1"
      },
      "source": [
        "for key in new_dict:\n",
        "    print(key, \":\", new_dict[key])"
      ],
      "execution_count": null,
      "outputs": [
        {
          "output_type": "stream",
          "text": [
            "day : 5\n",
            "venue : GJB\n",
            "event : Python Carnival!\n"
          ],
          "name": "stdout"
        }
      ]
    },
    {
      "cell_type": "code",
      "metadata": {
        "id": "WwJUr9cJuGcX",
        "outputId": "ed0b3a90-1fb8-47ac-d84e-8c8402548f48"
      },
      "source": [
        "for key, value in new_dict.items():\n",
        "    print(key, \";\", value)"
      ],
      "execution_count": null,
      "outputs": [
        {
          "output_type": "stream",
          "text": [
            "day ; 5\n",
            "venue ; GJB\n",
            "event ; Python Carnival!\n"
          ],
          "name": "stdout"
        }
      ]
    },
    {
      "cell_type": "markdown",
      "metadata": {
        "id": "KHklU_U82kip"
      },
      "source": [
        "![](https://github.com/sharadgupta27/BasicPython/blob/main/data_structures.slides.dir/5.png?raw=1)\n",
        "\n",
        "Some other useful methods:\n",
        "\n",
        "1. All keys `dict_var.keys()`\n",
        "2. All values `dict_var.values()`\n",
        "3. All key + value tuples `dict_var.items()`  \n",
        "4. Copy method `dict_var.copy()`\n",
        "5. Remove all items `dict_var.clear()`\n",
        "6. Merging keys from different dict `dict_var1.update(dict_var2)`\n",
        "7. Fetch by key, if absent default `dict_var.get(key, default)`\n",
        "8. Remove by key, if absent default `dict_var.pop(key, default)`\n",
        "9. Fetch by key, if absent set default `dict_var.setdefault(key, default)` \n",
        "10. deleting items by key `del dict_var[key]`"
      ]
    },
    {
      "cell_type": "markdown",
      "metadata": {
        "id": "Nqu1Ux2V4Tt9"
      },
      "source": [
        "Dictionaries can be iterated over using dictionary comprehensions which look thus:\n",
        "`output_dict = {key:value for (key, value) in iterable if (key, value satisfy this condition)}`"
      ]
    },
    {
      "cell_type": "code",
      "metadata": {
        "colab": {
          "base_uri": "https://localhost:8080/"
        },
        "id": "YXwpLDp44hsi",
        "outputId": "4ed4b4bf-eb37-4b5f-c685-c4462afdfc55"
      },
      "source": [
        "# Using Dictionary comprehensions to create an output dictionary which contains only the odd numbers that are present in the input list as keys and their cubes as values\n",
        "  \n",
        "input_list = [1,2,3,4,5,6,7] \n",
        "dict_using_comp = {var:var ** 4 for var in input_list if var % 2 != 0} \n",
        "  \n",
        "print(\"Output Dictionary using dictionary comprehensions:\", dict_using_comp)"
      ],
      "execution_count": 2,
      "outputs": [
        {
          "output_type": "stream",
          "text": [
            "Output Dictionary using dictionary comprehensions: {1: 1, 3: 81, 5: 625, 7: 2401}\n"
          ],
          "name": "stdout"
        }
      ]
    },
    {
      "cell_type": "code",
      "metadata": {
        "id": "woVMvFMzwpPK",
        "outputId": "dbbce2ce-5ba7-4f39-d0ad-97ced0e83d8b",
        "colab": {
          "base_uri": "https://localhost:8080/"
        }
      },
      "source": [
        "d = {}\r\n",
        "d['age']=50\r\n",
        "d['age']"
      ],
      "execution_count": 4,
      "outputs": [
        {
          "output_type": "execute_result",
          "data": {
            "text/plain": [
              "50"
            ]
          },
          "metadata": {
            "tags": []
          },
          "execution_count": 4
        }
      ]
    },
    {
      "cell_type": "markdown",
      "metadata": {
        "id": "sP_KKE5M1MFY"
      },
      "source": [
        "## Tuples\n",
        "\n",
        "They are a fast kind of sequence that functions much like a list - they have elements which are indexed starting at 0. They work exactly like lists, except that tuples can't be changed in place!! This means they are immutable, and this guarantee gives them their speed.\n",
        "\n",
        "\n",
        "BASIC PROPERTIES:\n",
        "\n",
        "- Ordered collections of arbitrary objects\n",
        "- Accessed by index\n",
        "- Of the category \"immutable sequence\"\n",
        "- Fixed-length, heterogeneous and arbitrarily nested\n",
        "\n",
        "The fixed length is important for performance. Unlike lists, they cannot be grown or shrunk.\n",
        "\n",
        "Theare are some ways to make tuples:"
      ]
    },
    {
      "cell_type": "code",
      "metadata": {
        "id": "LB1rWm6W1eiS",
        "outputId": "32143a08-5353-48a5-bf5a-b5afb249e3ac"
      },
      "source": [
        "# CREATING TUPLEs\n",
        "x = tuple() \n",
        "type(x)\t"
      ],
      "execution_count": null,
      "outputs": [
        {
          "output_type": "execute_result",
          "data": {
            "text/plain": [
              "tuple"
            ]
          },
          "metadata": {
            "tags": []
          },
          "execution_count": 12
        }
      ]
    },
    {
      "cell_type": "code",
      "metadata": {
        "id": "Qx4eqI5-1gtq",
        "outputId": "cd854d70-afcd-4d58-d297-000d52b27af6"
      },
      "source": [
        "# (b) Using only ()\n",
        "t=() \n",
        "type(t) "
      ],
      "execution_count": null,
      "outputs": [
        {
          "output_type": "execute_result",
          "data": {
            "text/plain": [
              "tuple"
            ]
          },
          "metadata": {
            "tags": []
          },
          "execution_count": 13
        }
      ]
    },
    {
      "cell_type": "markdown",
      "metadata": {
        "id": "D-4zq93ouGcb"
      },
      "source": [
        "The above tuples are 0-length and not so useful. Because tuples are immutable, the following code will not work."
      ]
    },
    {
      "cell_type": "code",
      "metadata": {
        "id": "O_v-jDyVuGcb",
        "outputId": "29add293-5dc3-4ad1-90db-016a3a791173"
      },
      "source": [
        "t[0] = 5"
      ],
      "execution_count": null,
      "outputs": [
        {
          "output_type": "error",
          "ename": "TypeError",
          "evalue": "'tuple' object does not support item assignment",
          "traceback": [
            "\u001b[0;31m---------------------------------------------------------------------------\u001b[0m",
            "\u001b[0;31mTypeError\u001b[0m                                 Traceback (most recent call last)",
            "\u001b[0;32m<ipython-input-14-6dd06f73cec4>\u001b[0m in \u001b[0;36m<module>\u001b[0;34m\u001b[0m\n\u001b[0;32m----> 1\u001b[0;31m \u001b[0mt\u001b[0m\u001b[0;34m[\u001b[0m\u001b[0;36m0\u001b[0m\u001b[0;34m]\u001b[0m \u001b[0;34m=\u001b[0m \u001b[0;36m5\u001b[0m\u001b[0;34m\u001b[0m\u001b[0;34m\u001b[0m\u001b[0m\n\u001b[0m",
            "\u001b[0;31mTypeError\u001b[0m: 'tuple' object does not support item assignment"
          ]
        }
      ]
    },
    {
      "cell_type": "markdown",
      "metadata": {
        "id": "_bxSJg9guGcc"
      },
      "source": [
        "You will usually see them defined thus:"
      ]
    },
    {
      "cell_type": "code",
      "metadata": {
        "id": "dSU_mKH81kVu",
        "outputId": "f2d043a4-cd98-4b37-a3f0-edeb47339114"
      },
      "source": [
        "z = 1,2,3,4 # or z = (1, 2, 3, 4)\n",
        "type(z) \n",
        "print(z)"
      ],
      "execution_count": null,
      "outputs": [
        {
          "output_type": "stream",
          "text": [
            "(1, 2, 3, 4)\n"
          ],
          "name": "stdout"
        }
      ]
    },
    {
      "cell_type": "markdown",
      "metadata": {
        "id": "47jx_EYfuGci"
      },
      "source": [
        "Of-course `z` is immutable"
      ]
    },
    {
      "cell_type": "code",
      "metadata": {
        "id": "cHm8nJXluGci",
        "outputId": "f9f3b296-758f-4db8-bdd7-a9fb5f327946"
      },
      "source": [
        "z[2] = 3"
      ],
      "execution_count": null,
      "outputs": [
        {
          "output_type": "error",
          "ename": "TypeError",
          "evalue": "'tuple' object does not support item assignment",
          "traceback": [
            "\u001b[0;31m---------------------------------------------------------------------------\u001b[0m",
            "\u001b[0;31mTypeError\u001b[0m                                 Traceback (most recent call last)",
            "\u001b[0;32m<ipython-input-40-5bca15b978ba>\u001b[0m in \u001b[0;36m<module>\u001b[0;34m()\u001b[0m\n\u001b[0;32m----> 1\u001b[0;31m \u001b[0mz\u001b[0m\u001b[0;34m[\u001b[0m\u001b[0;36m2\u001b[0m\u001b[0;34m]\u001b[0m \u001b[0;34m=\u001b[0m \u001b[0;36m3\u001b[0m\u001b[0;34m\u001b[0m\u001b[0;34m\u001b[0m\u001b[0m\n\u001b[0m",
            "\u001b[0;31mTypeError\u001b[0m: 'tuple' object does not support item assignment"
          ]
        }
      ]
    },
    {
      "cell_type": "markdown",
      "metadata": {
        "id": "EX4Dj_i6uGcj"
      },
      "source": [
        "And tuples are, as you might expect, listy"
      ]
    },
    {
      "cell_type": "code",
      "metadata": {
        "id": "_u4Ru89V1vBc",
        "outputId": "ff752db2-d679-4d5c-cb2d-8a6bf3f8bbb8"
      },
      "source": [
        "T1 = (1, 2, 3, 4, 5) \n",
        "for ele in T1:\n",
        "    print(ele)"
      ],
      "execution_count": null,
      "outputs": [
        {
          "output_type": "stream",
          "text": [
            "1\n",
            "2\n",
            "3\n",
            "4\n",
            "5\n"
          ],
          "name": "stdout"
        }
      ]
    },
    {
      "cell_type": "markdown",
      "metadata": {
        "id": "i44y21rEuGck"
      },
      "source": [
        "![](https://github.com/sharadgupta27/BasicPython/blob/main/data_structures.slides.dir/8.png?raw=1)"
      ]
    }
  ]
}