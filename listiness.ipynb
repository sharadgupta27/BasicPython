{
  "nbformat": 4,
  "nbformat_minor": 0,
  "metadata": {
    "colab": {
      "name": "L1 - lec2.ipynb",
      "provenance": [],
      "collapsed_sections": [],
      "include_colab_link": true
    },
    "kernelspec": {
      "display_name": "Python 3",
      "language": "python",
      "name": "python3"
    },
    "language_info": {
      "codemirror_mode": {
        "name": "ipython",
        "version": 3
      },
      "file_extension": ".py",
      "mimetype": "text/x-python",
      "name": "python",
      "nbconvert_exporter": "python",
      "pygments_lexer": "ipython3",
      "version": "3.7.6"
    }
  },
  "cells": [
    {
      "cell_type": "markdown",
      "metadata": {
        "id": "view-in-github",
        "colab_type": "text"
      },
      "source": [
        "<a href=\"https://colab.research.google.com/github/sharadgupta27/BasicPython/blob/main/listiness.ipynb\" target=\"_parent\"><img src=\"https://colab.research.google.com/assets/colab-badge.svg\" alt=\"Open In Colab\"/></a>"
      ]
    },
    {
      "cell_type": "markdown",
      "metadata": {
        "id": "vhcGxXw2TdVG"
      },
      "source": [
        "# Listiness.. or things that behave like lists"
      ]
    },
    {
      "cell_type": "markdown",
      "metadata": {
        "id": "whoGM3xyTdVV"
      },
      "source": [
        "Python puts great stock in the idea of having  **protocols** or mechanisms of behavior, and identifying cases in which this behavior is common.\n",
        "\n",
        "One of the most important ideas is that of things that behave like a *list of items*. \n",
        "\n",
        "These include lists, strings, and files. Many other data structures in Python are made to behave like lists as well, so that their content can be *iterated* through, in addition to their own native behavior."
      ]
    },
    {
      "cell_type": "markdown",
      "metadata": {
        "id": "jDynSCDMwHcC"
      },
      "source": [
        "## Lists\n",
        "\n",
        "The first of these that we should consider, are, well, lists themselves :-). Lets see how python lists behave.\n",
        "\n",
        "A list in Python is a sequence of anything!\n",
        "\n",
        "Lists are mutable; you can insert and delete elements anytime."
      ]
    },
    {
      "cell_type": "code",
      "metadata": {
        "id": "kDz4HzEbwORg",
        "outputId": "d0fb185c-b212-4886-9a3c-a48e4dc95778"
      },
      "source": [
        "# CREATING A LIST\n",
        "\n",
        "# A list is made from zero or more elements, separated by commas, and surrounded by square\n",
        "empty_list = []\n",
        "working_days = ['Monday', 'Tuesday', 'Wednesday', 'Thursday', 'Friday']\n",
        "print (working_days[2])"
      ],
      "execution_count": null,
      "outputs": [
        {
          "output_type": "stream",
          "text": [
            "Wednesday\n"
          ],
          "name": "stdout"
        }
      ]
    },
    {
      "cell_type": "markdown",
      "metadata": {
        "id": "oUojEDRTTdVa"
      },
      "source": [
        "Notice that Python lists are indexed from 0. The first element gets index 0, the second element gets index 1, and so on. Thus `working_days[2]` gives us the 3rd element."
      ]
    },
    {
      "cell_type": "code",
      "metadata": {
        "id": "jezwJ5eGTdVb",
        "outputId": "5776379f-a53c-4aed-b810-87574ddd94c6"
      },
      "source": [
        "# An empty list can be created using the list() function:\n",
        "next_empty_list = list()\n",
        "print (type(next_empty_list))"
      ],
      "execution_count": null,
      "outputs": [
        {
          "output_type": "stream",
          "text": [
            "<class 'list'>\n"
          ],
          "name": "stdout"
        }
      ]
    },
    {
      "cell_type": "markdown",
      "metadata": {
        "id": "CL92FBcZTdVc"
      },
      "source": [
        "![](https://github.com/sharadgupta27/BasicPython/blob/main/listiness.slides.dir/3.png?raw=1)"
      ]
    },
    {
      "cell_type": "markdown",
      "metadata": {
        "id": "Xitk2AixTdVd"
      },
      "source": [
        "There is a class of objects in Python that are not lists, bur rather, like lists, have a sequential existent. We dont want to generate them until we need them because they are easy to generate and would otherwise take up memory. An example is the\n",
        "object created by the function `range(start, stop)` which just gives you sequential numbers from start to 1 before stop. To generate these numbers, we can pass them to the `list` function"
      ]
    },
    {
      "cell_type": "code",
      "metadata": {
        "id": "DVRWqoxCTdVd",
        "outputId": "69d21d3e-ce6a-422e-e219-85fdad2f417b"
      },
      "source": [
        "range(1,10)"
      ],
      "execution_count": null,
      "outputs": [
        {
          "output_type": "execute_result",
          "data": {
            "text/plain": [
              "range(1, 10)"
            ]
          },
          "metadata": {
            "tags": []
          },
          "execution_count": 55
        }
      ]
    },
    {
      "cell_type": "code",
      "metadata": {
        "id": "9XRQ_z_VUQ2f",
        "outputId": "355c5298-7791-4c54-dadf-30bd43179e6a",
        "colab": {
          "base_uri": "https://localhost:8080/"
        }
      },
      "source": [
        "type(range(1,10))"
      ],
      "execution_count": 1,
      "outputs": [
        {
          "output_type": "execute_result",
          "data": {
            "text/plain": [
              "range"
            ]
          },
          "metadata": {
            "tags": []
          },
          "execution_count": 1
        }
      ]
    },
    {
      "cell_type": "code",
      "metadata": {
        "colab": {
          "base_uri": "https://localhost:8080/"
        },
        "id": "2w00JDg0wS3-",
        "outputId": "f2e09a18-5961-4fee-c78a-0fd918b507c4"
      },
      "source": [
        "num_list = list(range(1,10)) \n",
        "print(num_list) "
      ],
      "execution_count": 2,
      "outputs": [
        {
          "output_type": "stream",
          "text": [
            "[1, 2, 3, 4, 5, 6, 7, 8, 9]\n"
          ],
          "name": "stdout"
        }
      ]
    },
    {
      "cell_type": "code",
      "metadata": {
        "id": "VwQolwoUwUfE",
        "outputId": "6937b70e-8a0c-4c59-c887-88f5c006b2ae"
      },
      "source": [
        "# Lists are mutable (elements are changeable) \n",
        "num_list = [1, 2, 3, 4]\n",
        "num_list[1] = 8 \n",
        "print (num_list)"
      ],
      "execution_count": null,
      "outputs": [
        {
          "output_type": "stream",
          "text": [
            "[1, 8, 3, 4]\n"
          ],
          "name": "stdout"
        }
      ]
    },
    {
      "cell_type": "markdown",
      "metadata": {
        "id": "OFNP74kaTdVi"
      },
      "source": [
        "![](https://github.com/sharadgupta27/BasicPython/blob/main/listiness.slides.dir/4.png?raw=1)"
      ]
    },
    {
      "cell_type": "code",
      "metadata": {
        "id": "sdBbnLTVwXJf",
        "outputId": "3ace5933-6e17-465b-b556-fa788cb65a86"
      },
      "source": [
        "# Indexing a list\n",
        "# - Any integer expression can be used as an index\n",
        "# - If an index has a negative value, it counts from backward\n",
        "lst = list(range(1,5))\n",
        "print(lst)\n",
        "print (lst[-1])"
      ],
      "execution_count": null,
      "outputs": [
        {
          "output_type": "stream",
          "text": [
            "[1, 2, 3, 4]\n",
            "4\n"
          ],
          "name": "stdout"
        }
      ]
    },
    {
      "cell_type": "markdown",
      "metadata": {
        "id": "WaYorLfBTdVj"
      },
      "source": [
        "You can get slices of lists"
      ]
    },
    {
      "cell_type": "code",
      "metadata": {
        "id": "RaWHbg5jTdVk",
        "outputId": "93fa9101-0955-4de3-c071-095d3c4f068d"
      },
      "source": [
        "lst[0:3] # from 0, dont include whats at index 3"
      ],
      "execution_count": null,
      "outputs": [
        {
          "output_type": "execute_result",
          "data": {
            "text/plain": [
              "[1, 2, 3]"
            ]
          },
          "metadata": {
            "tags": []
          },
          "execution_count": 37
        }
      ]
    },
    {
      "cell_type": "code",
      "metadata": {
        "id": "12loJ0JWTdVk",
        "outputId": "16682315-63d8-4f6b-ef60-968a1e20ee2f"
      },
      "source": [
        "lst[-3:-1]"
      ],
      "execution_count": null,
      "outputs": [
        {
          "output_type": "execute_result",
          "data": {
            "text/plain": [
              "[2, 3]"
            ]
          },
          "metadata": {
            "tags": []
          },
          "execution_count": 38
        }
      ]
    },
    {
      "cell_type": "code",
      "metadata": {
        "id": "dsEJup_xwZYQ",
        "outputId": "555d0b70-518b-4f0b-db0a-e41cb2d9fdd1"
      },
      "source": [
        "# A list can have another list, or anything else as its element\n",
        "numbers = [1, 2, 3, 4, 5]\n",
        "courses = ['PP', 'BDA', \"USP\", 'WTA'] \n",
        "new_list = [numbers, courses, '6th sem'] \n",
        "print (new_list, len(new_list))"
      ],
      "execution_count": null,
      "outputs": [
        {
          "output_type": "stream",
          "text": [
            "[[1, 2, 3, 4, 5], ['PP', 'BDA', 'USP', 'WTA'], '6th sem'] 3\n"
          ],
          "name": "stdout"
        }
      ]
    },
    {
      "cell_type": "code",
      "metadata": {
        "id": "yxPMSYv2wi4y",
        "outputId": "a9e14aa1-503b-4f46-de75-907b61d42b6f"
      },
      "source": [
        "#Membership (using 'in' operator)\n",
        "'a' in list_a"
      ],
      "execution_count": null,
      "outputs": [
        {
          "output_type": "execute_result",
          "data": {
            "text/plain": [
              "True"
            ]
          },
          "metadata": {
            "tags": []
          },
          "execution_count": 40
        }
      ]
    },
    {
      "cell_type": "markdown",
      "metadata": {
        "id": "Rms_nkYhTdVm"
      },
      "source": [
        "## Operations on lists\n",
        "\n",
        "Lists support many methods which make using them simple. My favorite is `append`.\n"
      ]
    },
    {
      "cell_type": "code",
      "metadata": {
        "id": "N8t4LmEAwlLf",
        "outputId": "93baad36-c3bc-4c7c-e046-e1e2e61013c9"
      },
      "source": [
        "# append(x) - Adds a new element 'x' at the end of the list\n",
        "alist = ['a', 'b', 'c'] \n",
        "alist.append('d') \n",
        "print (alist)"
      ],
      "execution_count": null,
      "outputs": [
        {
          "output_type": "stream",
          "text": [
            "['a', 'b', 'c', 'd']\n"
          ],
          "name": "stdout"
        }
      ]
    },
    {
      "cell_type": "code",
      "metadata": {
        "id": "Uvu9FqDsTdVs",
        "outputId": "4f1d2724-5ac8-4064-d60c-99839aaf3c17"
      },
      "source": [
        "# insert(i, x) - inserts a new element 'x' at a specified index 'i'\n",
        "alist.insert(2, \"hello\")\n",
        "alist"
      ],
      "execution_count": null,
      "outputs": [
        {
          "output_type": "execute_result",
          "data": {
            "text/plain": [
              "['a', 'b', 'hello', 'c', 'd']"
            ]
          },
          "metadata": {
            "tags": []
          },
          "execution_count": 42
        }
      ]
    },
    {
      "cell_type": "code",
      "metadata": {
        "id": "C9YZUZcHw-4K",
        "outputId": "62c2defc-3a5e-4ff9-ea54-d4b1c763266c"
      },
      "source": [
        "# sorted(list) - returns the sorted 'list', but does not replace order in original list \n",
        "num = [ 4, 6, 2]\n",
        "num = sorted(num)\n",
        "num"
      ],
      "execution_count": null,
      "outputs": [
        {
          "output_type": "execute_result",
          "data": {
            "text/plain": [
              "[2, 4, 6]"
            ]
          },
          "metadata": {
            "tags": []
          },
          "execution_count": 43
        }
      ]
    },
    {
      "cell_type": "code",
      "metadata": {
        "id": "a8W1o6D2xIyG",
        "outputId": "74e1a4cb-b38b-4c2d-d6dc-14e2d951a44b"
      },
      "source": [
        "# pop(i) - removes and returns the element in index position 'i'\n",
        "num = [4, 7, 2, 6, 3, 9] \n",
        "num.pop(3)\n",
        "num"
      ],
      "execution_count": null,
      "outputs": [
        {
          "output_type": "execute_result",
          "data": {
            "text/plain": [
              "[4, 7, 2, 3, 9]"
            ]
          },
          "metadata": {
            "tags": []
          },
          "execution_count": 44
        }
      ]
    },
    {
      "cell_type": "code",
      "metadata": {
        "id": "u3mw0lvxxN5M",
        "outputId": "c1896894-b21a-4b89-e54b-d140aec356d9"
      },
      "source": [
        "# clear() - removes all the elements from a list.\n",
        "num = [4, 7, 2, 6, 3, 9]\n",
        "num.clear()\n",
        "num"
      ],
      "execution_count": null,
      "outputs": [
        {
          "output_type": "execute_result",
          "data": {
            "text/plain": [
              "[]"
            ]
          },
          "metadata": {
            "tags": []
          },
          "execution_count": 45
        }
      ]
    },
    {
      "cell_type": "markdown",
      "metadata": {
        "id": "01VcZgt5TdVu"
      },
      "source": [
        "Adding lists produces a bigger list! This is an example of a programming technique called operator overloading"
      ]
    },
    {
      "cell_type": "code",
      "metadata": {
        "id": "yHpM9fTmTdVv",
        "outputId": "83f0c6ad-abc1-4917-b06c-39ac3c74107d"
      },
      "source": [
        "first_list = [1, 2, 3]\n",
        "second_list = ['a', 'b', 'c']\n",
        "first_list + second_list"
      ],
      "execution_count": null,
      "outputs": [
        {
          "output_type": "execute_result",
          "data": {
            "text/plain": [
              "[1, 2, 3, 'a', 'b', 'c']"
            ]
          },
          "metadata": {
            "tags": []
          },
          "execution_count": 46
        }
      ]
    },
    {
      "cell_type": "markdown",
      "metadata": {
        "id": "fvZDBzcITdVv"
      },
      "source": [
        "## Iterating over lists\n",
        "\n",
        "Using a for loop to do iteration is quite simple."
      ]
    },
    {
      "cell_type": "code",
      "metadata": {
        "id": "9fmIjnqxTdVv",
        "outputId": "b67c9d19-1f2a-4ef0-8fbf-231662df2d2c",
        "colab": {
          "base_uri": "https://localhost:8080/"
        }
      },
      "source": [
        "num = [4, 7, 'b', 6, 'a', 9]\n",
        "for ele in num:\n",
        "    print(ele)"
      ],
      "execution_count": 4,
      "outputs": [
        {
          "output_type": "stream",
          "text": [
            "4\n",
            "7\n",
            "b\n",
            "6\n",
            "a\n",
            "9\n"
          ],
          "name": "stdout"
        }
      ]
    },
    {
      "cell_type": "markdown",
      "metadata": {
        "id": "MzSRIFtVTdVw"
      },
      "source": [
        "You can now mix in conditionals to filter your iteration:"
      ]
    },
    {
      "cell_type": "code",
      "metadata": {
        "id": "mrOgWyXHTdVw",
        "outputId": "358756f7-beb6-4ef7-8545-23fa29416859"
      },
      "source": [
        "for ele in num:\n",
        "    if ele % 2 == 0: #even numbers only\n",
        "        print(ele)"
      ],
      "execution_count": null,
      "outputs": [
        {
          "output_type": "stream",
          "text": [
            "4\n",
            "2\n",
            "6\n"
          ],
          "name": "stdout"
        }
      ]
    },
    {
      "cell_type": "markdown",
      "metadata": {
        "id": "ToWYXKrXTdVy"
      },
      "source": [
        "There is a short-cut iteration syntax called a list comprehension, often used to construct new lists"
      ]
    },
    {
      "cell_type": "code",
      "metadata": {
        "id": "WRGWZDeSTdVy",
        "outputId": "5659dad8-35ce-4b51-b38c-910935f02eac"
      },
      "source": [
        "list_with_same_as_num = [e for e in num]\n",
        "list_with_same_as_num"
      ],
      "execution_count": null,
      "outputs": [
        {
          "output_type": "execute_result",
          "data": {
            "text/plain": [
              "[4, 7, 2, 6, 3, 9]"
            ]
          },
          "metadata": {
            "tags": []
          },
          "execution_count": 49
        }
      ]
    },
    {
      "cell_type": "markdown",
      "metadata": {
        "id": "Ajby2EZPTdVz"
      },
      "source": [
        "This kind of syntax is really useful when combined with conditionals:"
      ]
    },
    {
      "cell_type": "code",
      "metadata": {
        "id": "FGOYpGGoTdVz",
        "outputId": "0ab0fa2a-c8ef-454e-c6c4-7df6802a38d1"
      },
      "source": [
        "list_with_evens = [e for e in num if e % 2 == 0]\n",
        "list_with_evens"
      ],
      "execution_count": null,
      "outputs": [
        {
          "output_type": "execute_result",
          "data": {
            "text/plain": [
              "[4, 2, 6]"
            ]
          },
          "metadata": {
            "tags": []
          },
          "execution_count": 50
        }
      ]
    },
    {
      "cell_type": "markdown",
      "metadata": {
        "id": "-kKCRDDZoNvk"
      },
      "source": [
        "## Strings\n",
        "\n",
        "Strings such as `hello world` in python behave just like lists, and a lot of what you learn about lists applies to them: they are **iterable**, and they have a length! But they have one critical additional property: they are **immutable**, that is they cant be changed!\n"
      ]
    },
    {
      "cell_type": "code",
      "metadata": {
        "id": "Cbkj834onHje",
        "outputId": "6f494aa0-2f3a-44a5-b1dd-0e967ffa5ec8"
      },
      "source": [
        "var = \"This is a string\"\n",
        "print (var, len(var))\n",
        "print (var[3]) # the s of This"
      ],
      "execution_count": null,
      "outputs": [
        {
          "output_type": "stream",
          "text": [
            "This is a string 16\n",
            "s\n"
          ],
          "name": "stdout"
        }
      ]
    },
    {
      "cell_type": "code",
      "metadata": {
        "id": "vFSJZAZvTdV0",
        "outputId": "f7d413bc-3beb-4479-949b-6b0837124200"
      },
      "source": [
        "for char in var:\n",
        "    print(char)"
      ],
      "execution_count": null,
      "outputs": [
        {
          "output_type": "stream",
          "text": [
            "T\n",
            "h\n",
            "i\n",
            "s\n",
            " \n",
            "i\n",
            "s\n",
            " \n",
            "a\n",
            " \n",
            "s\n",
            "t\n",
            "r\n",
            "i\n",
            "n\n",
            "g\n"
          ],
          "name": "stdout"
        }
      ]
    },
    {
      "cell_type": "code",
      "metadata": {
        "id": "k0aHYSeOTdV1",
        "outputId": "2824685e-3a89-431e-cb12-a087928f8417"
      },
      "source": [
        "var[3] = \"t\" # this will fail because immutability"
      ],
      "execution_count": null,
      "outputs": [
        {
          "output_type": "error",
          "ename": "TypeError",
          "evalue": "'str' object does not support item assignment",
          "traceback": [
            "\u001b[0;31m---------------------------------------------------------------------------\u001b[0m",
            "\u001b[0;31mTypeError\u001b[0m                                 Traceback (most recent call last)",
            "\u001b[0;32m<ipython-input-53-afd63de1e61e>\u001b[0m in \u001b[0;36m<module>\u001b[0;34m\u001b[0m\n\u001b[0;32m----> 1\u001b[0;31m \u001b[0mvar\u001b[0m\u001b[0;34m[\u001b[0m\u001b[0;36m3\u001b[0m\u001b[0;34m]\u001b[0m \u001b[0;34m=\u001b[0m \u001b[0;34m\"t\"\u001b[0m \u001b[0;31m# this will fail because immutability\u001b[0m\u001b[0;34m\u001b[0m\u001b[0;34m\u001b[0m\u001b[0m\n\u001b[0m",
            "\u001b[0;31mTypeError\u001b[0m: 'str' object does not support item assignment"
          ]
        }
      ]
    },
    {
      "cell_type": "markdown",
      "metadata": {
        "id": "G5BofT_rTdV2"
      },
      "source": [
        "Strings can be sliced just as lists can"
      ]
    },
    {
      "cell_type": "code",
      "metadata": {
        "id": "K5r838KbTdV2",
        "outputId": "d6435062-e095-4974-c705-30d5efb833d3"
      },
      "source": [
        "#String slicing\n",
        "print(var)\n",
        "print (var[6:])\n",
        "print (var[1:3])\n",
        "print (var[:-1])\n",
        "print (var[2:10:2]) #the last parameter is for chagning the step size"
      ],
      "execution_count": null,
      "outputs": [
        {
          "output_type": "stream",
          "text": [
            "This is a string\n",
            "s a string\n",
            "hi\n",
            "This is a strin\n",
            "i sa\n"
          ],
          "name": "stdout"
        }
      ]
    },
    {
      "cell_type": "markdown",
      "metadata": {
        "id": "8COMlZH3TdV3"
      },
      "source": [
        "![](https://github.com/sharadgupta27/BasicPython/blob/main/listiness.slides.dir/7.png?raw=1)"
      ]
    },
    {
      "cell_type": "markdown",
      "metadata": {
        "id": "JLnDLEqpxV25"
      },
      "source": [
        "## Files\n",
        "\n",
        "The built-in `open()` function creates a Python file object, which serves as a link to a file residing on your machine. After calling 'open()', strings of data can be transferred to and from the associated external file by calling the returned file object's methods.\n",
        "\n",
        "At this point, you can read data from the file as a whole (`read()`, or `n` bytes at a time, `read(n)`. You can read a line at a time with `readline()`, and all the lines into a list of strings with `readlines()`. Similar methods exist for writing.\n",
        "\n",
        "You must close the file after you finish using it.\n",
        "\n",
        "![](https://github.com/sharadgupta27/BasicPython/blob/main/listiness.slides.dir/10.png?raw=1)\n",
        "\n",
        "But as you might have expected, you can treat a file just like a list even more idiomatically, as we shall see."
      ]
    },
    {
      "cell_type": "code",
      "metadata": {
        "id": "8nrWHLrDYrft",
        "outputId": "90a3f1e4-beb4-4d2b-d616-49ffa71173b3",
        "colab": {
          "base_uri": "https://localhost:8080/"
        }
      },
      "source": [
        "!wget https://raw.githubusercontent.com/sharadgupta27/BasicPython/main/data/Julius%20Caesar.txt"
      ],
      "execution_count": 6,
      "outputs": [
        {
          "output_type": "stream",
          "text": [
            "--2020-12-19 05:04:56--  https://raw.githubusercontent.com/sharadgupta27/BasicPython/main/data/Julius%20Caesar.txt\n",
            "Resolving raw.githubusercontent.com (raw.githubusercontent.com)... 151.101.0.133, 151.101.64.133, 151.101.128.133, ...\n",
            "Connecting to raw.githubusercontent.com (raw.githubusercontent.com)|151.101.0.133|:443... connected.\n",
            "HTTP request sent, awaiting response... 200 OK\n",
            "Length: 120873 (118K) [text/plain]\n",
            "Saving to: ‘Julius Caesar.txt’\n",
            "\n",
            "Julius Caesar.txt   100%[===================>] 118.04K  --.-KB/s    in 0.01s   \n",
            "\n",
            "2020-12-19 05:04:57 (7.79 MB/s) - ‘Julius Caesar.txt’ saved [120873/120873]\n",
            "\n"
          ],
          "name": "stdout"
        }
      ]
    },
    {
      "cell_type": "code",
      "metadata": {
        "id": "JRfbYGY-TdV4",
        "outputId": "0c1c20b3-8b63-40a4-b29e-edfd6e25e1c9",
        "colab": {
          "base_uri": "https://localhost:8080/"
        }
      },
      "source": [
        "fd = open(\"Julius Caesar.txt\")\n",
        "counter = 0\n",
        "for line in fd:\n",
        "    if counter < 10: # print first 10 lines, there are lots!\n",
        "        print(\"<<\", line, \">>\")\n",
        "    counter = counter + 1 # also writeable as counter += 1\n",
        "fd.close()"
      ],
      "execution_count": 8,
      "outputs": [
        {
          "output_type": "stream",
          "text": [
            "<< THE TRAGEDY OF JULIUS CAESAR\n",
            " >>\n",
            "<< \n",
            " >>\n",
            "<< \n",
            " >>\n",
            "<< by William Shakespeare\n",
            " >>\n",
            "<< \n",
            " >>\n",
            "<< \n",
            " >>\n",
            "<< Contents\n",
            " >>\n",
            "<< \n",
            " >>\n",
            "<< ACT I\n",
            " >>\n",
            "<< Scene I. Rome. A street.\n",
            " >>\n"
          ],
          "name": "stdout"
        }
      ]
    },
    {
      "cell_type": "markdown",
      "metadata": {
        "id": "Qdu7eYzTTdV4"
      },
      "source": [
        "Notice that the newlines remain. You can use the string method `strip` to remove them. There are many such \"methods\", which are functions that belong to string \"objects\"."
      ]
    },
    {
      "cell_type": "code",
      "metadata": {
        "id": "p_l6OHq6TdV5",
        "outputId": "aa4d352c-9d00-4f2f-a2c7-6b33830e7569"
      },
      "source": [
        "fd = open(\"data/Julius Caesar.txt\")\n",
        "counter = 0\n",
        "for line in fd:\n",
        "    if counter < 10: # print first 10 lines\n",
        "        print(\"<<\", line.strip(), \">>\")\n",
        "    else:\n",
        "        break # break out of for loop\n",
        "    counter = counter + 1 # also writeable as counter += 1\n",
        "fd.close()\n",
        "print(counter)"
      ],
      "execution_count": null,
      "outputs": [
        {
          "output_type": "stream",
          "text": [
            "<< THE TRAGEDY OF JULIUS CAESAR >>\n",
            "<<  >>\n",
            "<<  >>\n",
            "<< by William Shakespeare >>\n",
            "<<  >>\n",
            "<<  >>\n",
            "<< Contents >>\n",
            "<<  >>\n",
            "<< ACT I >>\n",
            "<< Scene I. Rome. A street. >>\n",
            "10\n"
          ],
          "name": "stdout"
        }
      ]
    },
    {
      "cell_type": "markdown",
      "metadata": {
        "id": "3E59y1R-TdV6"
      },
      "source": [
        "Above we added a `break` statement in the for loop which ended our iteration through the file (its the whole play!!!). You can use `readlines()` here but it will read the entire file into memory."
      ]
    },
    {
      "cell_type": "code",
      "metadata": {
        "id": "3NY-o7HpTdV6",
        "outputId": "fcf1ec7d-4c47-4bcd-d9d1-e53082200e91"
      },
      "source": [
        "fd = open(\"data/Julius Caesar.txt\")\n",
        "lines = [line.strip() for line in fd.readlines()]\n",
        "fd.close()\n",
        "print(len(lines))"
      ],
      "execution_count": null,
      "outputs": [
        {
          "output_type": "stream",
          "text": [
            "4639\n"
          ],
          "name": "stdout"
        }
      ]
    },
    {
      "cell_type": "markdown",
      "metadata": {
        "id": "VWkC-6jqTdV6"
      },
      "source": [
        "### What about writing?\n",
        "\n",
        "Lets write the first ten lines out..."
      ]
    },
    {
      "cell_type": "code",
      "metadata": {
        "id": "cK6HtaPTTdV7",
        "outputId": "d6d54937-c1eb-4149-f113-59fd0d8848aa"
      },
      "source": [
        "fd = open(\"data/Julius Caesar.txt\")\n",
        "fd2 = open(\"data/julfirst10.txt\", \"w\")\n",
        "counter = 0\n",
        "for line in fd:\n",
        "    if counter < 10: # print first 10 lines\n",
        "        print(\"<<\", line.strip(), \">>\")\n",
        "        fd2.write(line)\n",
        "    else:\n",
        "        break # break out of for loop\n",
        "    counter = counter + 1 # also writeable as counter += 1\n",
        "fd.close()\n",
        "fd2.close()\n",
        "print(counter)"
      ],
      "execution_count": null,
      "outputs": [
        {
          "output_type": "stream",
          "text": [
            "<< THE TRAGEDY OF JULIUS CAESAR >>\n",
            "<<  >>\n",
            "<<  >>\n",
            "<< by William Shakespeare >>\n",
            "<<  >>\n",
            "<<  >>\n",
            "<< Contents >>\n",
            "<<  >>\n",
            "<< ACT I >>\n",
            "<< Scene I. Rome. A street. >>\n",
            "10\n"
          ],
          "name": "stdout"
        }
      ]
    }
  ]
}